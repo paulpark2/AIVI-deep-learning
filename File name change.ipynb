{
 "cells": [
  {
   "cell_type": "code",
   "execution_count": 4,
   "id": "5d36bf5c",
   "metadata": {},
   "outputs": [],
   "source": [
    "import os\n",
    "\n",
    "# Set the root directory to be searched\n",
    "root_directory = r\"D:\\01.Paul\\AIVI005_IK15HEGA0_train\"\n",
    "\n",
    "# Loop through all subdirectories and files\n",
    "for directory_path, _, file_names in os.walk(root_directory):\n",
    "    # Extract the directory name\n",
    "    directory_name = os.path.basename(directory_path)\n",
    "    # Extract the parent directory name\n",
    "    parent_directory_name = os.path.basename(os.path.dirname(os.path.dirname(directory_path)))\n",
    "    # Loop through all files in the directory\n",
    "    for file_name in file_names:\n",
    "        if file_name.startswith(\"Frame\") and file_name.endswith(\".jpg\"):\n",
    "            object_number = file_name[22:24]\n",
    "            new_file_name = f\"{parent_directory_name}Obj{object_number}.jpg\"\n",
    "            # Check if the new_file_name already exists in the directory\n",
    "            new_file_path = os.path.join(directory_path, new_file_name)\n",
    "            if os.path.exists(new_file_path):\n",
    "                count = 2\n",
    "                # Adjust new_file_name to ensure uniqueness\n",
    "                while os.path.exists(os.path.join(directory_path, f\"{parent_directory_name}({count})Obj{object_number}.jpg\")):\n",
    "                    count += 1\n",
    "                new_file_name = f\"{parent_directory_name}({count})Obj{object_number}.jpg\"\n",
    "            os.rename(os.path.join(directory_path, file_name), os.path.join(directory_path, new_file_name))"
   ]
  },
  {
   "cell_type": "code",
   "execution_count": null,
   "id": "39bbb4cf",
   "metadata": {},
   "outputs": [],
   "source": []
  },
  {
   "cell_type": "code",
   "execution_count": null,
   "id": "fc25d74b",
   "metadata": {},
   "outputs": [],
   "source": []
  }
 ],
 "metadata": {
  "kernelspec": {
   "display_name": "Python 3 (ipykernel)",
   "language": "python",
   "name": "python3"
  },
  "language_info": {
   "codemirror_mode": {
    "name": "ipython",
    "version": 3
   },
   "file_extension": ".py",
   "mimetype": "text/x-python",
   "name": "python",
   "nbconvert_exporter": "python",
   "pygments_lexer": "ipython3",
   "version": "3.11.5"
  }
 },
 "nbformat": 4,
 "nbformat_minor": 5
}
