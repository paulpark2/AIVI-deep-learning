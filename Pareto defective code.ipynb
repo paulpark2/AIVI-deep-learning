{
 "cells": [
  {
   "cell_type": "code",
   "execution_count": null,
   "id": "e22c9a75",
   "metadata": {},
   "outputs": [],
   "source": [
    "#불량코드 우선순위 정리\n",
    "import os\n",
    "import re\n",
    "root_dir = r\"D:\\01.Paul\\AIVI005_IK15HEGA0_train\"\n",
    "results={}\n",
    "for dirpath, dirnames, filenames in os.walk(root_dir):\n",
    "    if any(word in dirpath for word in ['(']):\n",
    "        match = re.search('\\((.*?)\\)', dirpath)\n",
    "        if match:\n",
    "            result = match.group(1)\n",
    "            if result in results:\n",
    "                results[result] += 1\n",
    "            else:\n",
    "                results[result] = 1\n",
    "dict(sorted(results.items(), key=lambda x: x[1]))"
   ]
  }
 ],
 "metadata": {
  "kernelspec": {
   "display_name": "Python 3 (ipykernel)",
   "language": "python",
   "name": "python3"
  },
  "language_info": {
   "codemirror_mode": {
    "name": "ipython",
    "version": 3
   },
   "file_extension": ".py",
   "mimetype": "text/x-python",
   "name": "python",
   "nbconvert_exporter": "python",
   "pygments_lexer": "ipython3",
   "version": "3.11.5"
  }
 },
 "nbformat": 4,
 "nbformat_minor": 5
}
