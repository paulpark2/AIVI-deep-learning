{
 "cells": [
  {
   "cell_type": "code",
   "execution_count": 13,
   "id": "2c4e115a",
   "metadata": {},
   "outputs": [
    {
     "data": {
      "text/plain": [
       "\"\\nPCB\\n'PCON', 'FMP', 'PDMG'\\nAu WB\\n'SLT', 'WBD30', 'SGW30', 'MSW30', 'MSB'\\nAl wire\\n'SGW125', 'MSW125', 'MSW350', 'WBD125', 'WBD350', 'WLL125', 'BKW125',  'WLC350',  'FML', 'LFCON', 'HLOOP350'\\nDrive IC, NTC\\n'INCO', 'EOL', 'ICDP'\\nDiode, IGBT\\n'DBD', 'FMC', 'SOLOX', 'IDP', 'DLSOL', 'ILSOL'\\n공통\\n'ETC', 'MPQC', 'LFD', 'CUDT'\\n\""
      ]
     },
     "execution_count": 13,
     "metadata": {},
     "output_type": "execute_result"
    }
   ],
   "source": [
    "PCB\n",
    "'PCON', 'FMP', 'PDMG', 'PBNT'\n",
    "Au WB\n",
    "'SLT', 'WBD30', 'SGW30', 'MSW30', 'MSB', 'BLT'\n",
    "Al wire\n",
    "'SGW125', 'MSW125', 'MSW350', 'WBD125', 'WBD350', 'SGW350', 'BKW350', 'WLL125', 'BKW125',  'WLC350',  'FML', 'LFCON', 'HLOOP350', 'TLONG', 'WLP125', 'BTM', 'MPO'\n",
    "Drive IC, NTC\n",
    "'INCO', 'EOL', 'ICDP', 'INCO_IC', \n",
    "Diode, IGBT\n",
    "'DBD', 'FMC', 'SOLOX', 'IDP', 'DLSOL', 'ILSOL', 'DDP', 'DCON', 'INKD', 'SOL', 'DSC'\n",
    "공통\n",
    "'ETC', 'MPQC', 'LFD', 'CUDT'"
   ]
  },
  {
   "cell_type": "code",
   "execution_count": 2,
   "id": "b221f65d",
   "metadata": {},
   "outputs": [],
   "source": [
    "import os\n",
    "import shutil\n",
    "import pandas as pd\n",
    "import re"
   ]
  },
  {
   "cell_type": "code",
   "execution_count": 3,
   "id": "90a2e3c7",
   "metadata": {},
   "outputs": [],
   "source": [
    "root_dir = r\"D:\\01.Paul\\AIVI005_IK15HEGA0_train\"\n",
    "for dirpath, dirnames, filenames in os.walk(root_dir):\n",
    "    if any(word in dirpath for word in ['PCON', 'FMP', 'PDMG', 'PBNT']):\n",
    "        for file in filenames:\n",
    "            if file.endswith(\"Obj02.jpg\"):\n",
    "                dest_dir = \"D:/01.Paul/AIVI005_IK15HGAE0_data_PCB/train/\"+ dirpath[-8:] + \"/obj2/defective\"\n",
    "            elif file.endswith(\"Obj03.jpg\"):\n",
    "                dest_dir = \"D:/01.Paul/AIVI005_IK15HGAE0_data_PCB/train/\"+ dirpath[-8:] + \"/obj3/defective\"\n",
    "            elif file.endswith(\"Obj04.jpg\"):\n",
    "                dest_dir = \"D:/01.Paul/AIVI005_IK15HGAE0_data_PCB/train/\"+ dirpath[-8:] + \"/obj4/defective\"\n",
    "            elif file.endswith(\"Obj05.jpg\"):\n",
    "                dest_dir = \"D:/01.Paul/AIVI005_IK15HGAE0_data_PCB/train/\"+ dirpath[-8:] + \"/obj5/defective\"\n",
    "            else:\n",
    "                continue\n",
    "            dest_file = os.path.join(dest_dir, file)\n",
    "\n",
    "            i=1\n",
    "            while os.path.exists(dest_file):\n",
    "                dest_file = os.path.join(dest_dir, f\"{os.path.splitext(file)[0]}_{i}{os.path.splitext(file)[1]}\")\n",
    "                i += 1\n",
    "            try:\n",
    "                shutil.copy2(os.path.join(dirpath, file), dest_file)\n",
    "            except:\n",
    "                pass"
   ]
  },
  {
   "cell_type": "code",
   "execution_count": 3,
   "id": "82b24ac3",
   "metadata": {},
   "outputs": [],
   "source": [
    "root_dir = r\"D:\\01.Paul\\AIVI006_IK15HGA_test\""
   ]
  },
  {
   "cell_type": "code",
   "execution_count": 33,
   "id": "1c23b11e",
   "metadata": {},
   "outputs": [],
   "source": [
    "for dirpath, dirnames, filenames in os.walk(root_dir):\n",
    "    if any(word in dirpath for word in ['SGW125', 'MSW125', 'MSW350', 'WBD125', 'WBD350', 'WLL125', 'BKW125',  'WLC350',  'FML', 'LFCON', 'HLOOP350']):\n",
    "        for file in filenames:    \n",
    "            if file.endswith(\"Obj02.jpg\"):\n",
    "                dest_dir = \"D:/01.Paul/AIVI006_IK15HGAE_data_AlWB/test/\"+ dirpath[-8:] + \"/obj2/defective\"\n",
    "            elif file.endswith(\"Obj03.jpg\"):\n",
    "                dest_dir = \"D:/01.Paul/AIVI006_IK15HGAE_data_AlWB/test/\"+ dirpath[-8:] + \"/obj3/defective\"\n",
    "            elif file.endswith(\"Obj04.jpg\"):\n",
    "                dest_dir = \"D:/01.Paul/AIVI006_IK15HGAE_data_AlWB/test/\"+ dirpath[-8:] + \"/obj4/defective\"\n",
    "            elif file.endswith(\"Obj05.jpg\"):\n",
    "                dest_dir = \"D:/01.Paul/AIVI006_IK15HGAE_data_AlWB/test/\"+ dirpath[-8:] + \"/obj5/defective\"\n",
    "            else:\n",
    "                continue\n",
    "            dest_file = os.path.join(dest_dir, file)    \n",
    "\n",
    "            i=1\n",
    "            while os.path.exists(dest_file):\n",
    "                dest_file = os.path.join(dest_dir, f\"{os.path.splitext(file)[0]}_{i}{os.path.splitext(file)[1]}\")\n",
    "                i += 1\n",
    "            try:\n",
    "                shutil.copy2(os.path.join(dirpath, file), dest_file)\n",
    "            except:\n",
    "                pass"
   ]
  },
  {
   "cell_type": "code",
   "execution_count": null,
   "id": "3bedeff6",
   "metadata": {},
   "outputs": [],
   "source": []
  },
  {
   "cell_type": "code",
   "execution_count": 6,
   "id": "8ddcf2f4",
   "metadata": {},
   "outputs": [],
   "source": [
    "import os\n",
    "import shutil\n",
    "import pandas as pd\n",
    "import re\n",
    "\n",
    "lst1 = ['MAG001\\Cam1P1L1','MAG002\\Cam1P1L1','MAG003\\Cam1P1L1','MAG004\\Cam1P1L1','MAG005\\Cam1P1L1','MAG006\\Cam1P1L1','MAG007\\Cam1P1L1','MAG008\\Cam1P1L1','MAG009\\Cam1P1L1','MAG010\\Cam1P1L1']\n",
    "lst2 = ['MAG001\\Cam1P1L2','MAG002\\Cam1P1L2','MAG003\\Cam1P1L2','MAG004\\Cam1P1L2','MAG005\\Cam1P1L2','MAG006\\Cam1P1L2','MAG007\\Cam1P1L2','MAG008\\Cam1P1L2','MAG009\\Cam1P1L2','MAG010\\Cam1P1L2']\n",
    "lst3 = ['MAG001\\Cam1P1L3','MAG002\\Cam1P1L3','MAG003\\Cam1P1L3','MAG004\\Cam1P1L3','MAG005\\Cam1P1L3','MAG006\\Cam1P1L3','MAG007\\Cam1P1L3','MAG008\\Cam1P1L3','MAG009\\Cam1P1L3','MAG010\\Cam1P1L3']\n",
    "lst4 = ['MAG001\\Cam2P1L1','MAG002\\Cam2P1L1','MAG003\\Cam2P1L1','MAG004\\Cam2P1L1','MAG005\\Cam2P1L1','MAG006\\Cam2P1L1','MAG007\\Cam2P1L1','MAG008\\Cam2P1L1','MAG009\\Cam2P1L1','MAG010\\Cam2P1L1']\n",
    "lst5 = ['MAG001\\Cam2P1L2','MAG002\\Cam2P1L2','MAG003\\Cam2P1L2','MAG004\\Cam2P1L2','MAG005\\Cam2P1L2','MAG006\\Cam2P1L2','MAG007\\Cam2P1L2','MAG008\\Cam2P1L2','MAG009\\Cam2P1L2','MAG010\\Cam2P1L2']\n",
    "lst6 = ['MAG001\\Cam2P1L3','MAG002\\Cam2P1L3','MAG003\\Cam2P1L3','MAG004\\Cam2P1L3','MAG005\\Cam2P1L3','MAG006\\Cam2P1L3','MAG007\\Cam2P1L3','MAG008\\Cam2P1L3','MAG009\\Cam2P1L3','MAG010\\Cam2P1L3']\n",
    "lst7 = ['MAG001\\Cam3P1L1','MAG002\\Cam3P1L1','MAG003\\Cam3P1L1','MAG004\\Cam3P1L1','MAG005\\Cam3P1L1','MAG006\\Cam3P1L1','MAG007\\Cam3P1L1','MAG008\\Cam3P1L1','MAG009\\Cam3P1L1','MAG010\\Cam3P1L1']\n",
    "lst8 = ['MAG001\\Cam3P1L2','MAG002\\Cam3P1L2','MAG003\\Cam3P1L2','MAG004\\Cam3P1L2','MAG005\\Cam3P1L2','MAG006\\Cam3P1L2','MAG007\\Cam3P1L2','MAG008\\Cam3P1L2','MAG009\\Cam3P1L2','MAG010\\Cam3P1L2']\n",
    "lst9 = ['MAG001\\Cam3P1L3','MAG002\\Cam3P1L3','MAG003\\Cam3P1L3','MAG004\\Cam3P1L3','MAG005\\Cam3P1L3','MAG006\\Cam3P1L3','MAG007\\Cam3P1L3','MAG008\\Cam3P1L3','MAG009\\Cam3P1L3','MAG010\\Cam3P1L3']\n",
    "\n",
    "root_dir = r\"D:\\01.Paul\\AIVI002_IK15HE_train\"\n",
    "\n",
    "for dirpath, dirnames, filenames in os.walk(root_dir):\n",
    "    for j in range(1,10):\n",
    "        if dirpath[-15:] in locals()['lst{}'.format(j)]:\n",
    "            for file in filenames:       \n",
    "                if file.endswith(\"Obj02.jpg\"):\n",
    "                    dest_dir = \"D:\\\\01.Paul\\\\AIVI002_IK15HGAE_data_PCB\\\\train\\\\\" + locals()['lst{}'.format(j)][0][7:15] + \"\\\\obj2\\\\good\"\n",
    "                elif file.endswith(\"Obj03.jpg\"):\n",
    "                    dest_dir = \"D:\\\\01.Paul\\\\AIVI002_IK15HGAE_data_PCB\\\\train\\\\\" + locals()['lst{}'.format(j)][0][7:15] + \"\\\\obj3\\\\good\"\n",
    "                elif file.endswith(\"Obj04.jpg\"):\n",
    "                    dest_dir = \"D:\\\\01.Paul\\\\AIVI002_IK15HGAE_data_PCB\\\\train\\\\\" + locals()['lst{}'.format(j)][0][7:15] + \"\\\\obj4\\\\good\"\n",
    "                elif file.endswith(\"Obj05.jpg\"):\n",
    "                    dest_dir = \"D:\\\\01.Paul\\\\AIVI002_IK15HGAE_data_PCB\\\\train\\\\\" + locals()['lst{}'.format(j)][0][7:15] + \"\\\\obj5\\\\good\"\n",
    "                else:\n",
    "                    continue\n",
    "                dest_file = os.path.join(dest_dir,  file)\n",
    "                \n",
    "                i=1\n",
    "                while os.path.exists(dest_file):\n",
    "                    dest_file = os.path.join(dest_dir, f\"{os.path.splitext(file)[0]}_{i}{os.path.splitext(file)[1]}\")\n",
    "                    i += 1\n",
    "                shutil.copy2(os.path.join(dirpath, file), dest_file)"
   ]
  },
  {
   "cell_type": "code",
   "execution_count": 7,
   "id": "8c0049f5",
   "metadata": {},
   "outputs": [],
   "source": [
    "import threading\n",
    "\n",
    "def copy_file(src_path, dest_path):\n",
    "    shutil.copy2(src_path, dest_path)\n",
    "\n",
    "root_dir = r\"D:\\01.Paul\\AIVI006_IK15HGA_test\"\n",
    "dest_dir = \"D:\\\\01.Paul\\\\AIVI006_IK15HGAE_data_PCB\\\\test\"\n",
    "\n",
    "files_to_copy = []\n",
    "for dirpath, dirnames, filenames in os.walk(root_dir):\n",
    "    for j in range(1, 10):\n",
    "        if dirpath[-15:] in locals()['lst{}'.format(j)]:\n",
    "            for file in filenames:\n",
    "                if file.endswith(\"Obj02.jpg\"):\n",
    "                    subdir = \"obj2\\\\good\"\n",
    "                elif file.endswith(\"Obj03.jpg\"):\n",
    "                    subdir = \"obj3\\\\good\"\n",
    "                elif file.endswith(\"Obj04.jpg\"):\n",
    "                    subdir = \"obj4\\\\good\"\n",
    "                elif file.endswith(\"Obj05.jpg\"):\n",
    "                    subdir = \"obj5\\\\good\"\n",
    "                else:\n",
    "                    continue\n",
    "                src_file = os.path.join(dirpath, file)\n",
    "                dest_file = os.path.join(dest_dir, locals()['lst{}'.format(j)][0][7:15], subdir, file)\n",
    "                files_to_copy.append((src_file, dest_file))\n",
    "\n",
    "num_threads = 8\n",
    "file_chunks = [files_to_copy[i:i+num_threads] for i in range(0, len(files_to_copy), num_threads)]\n",
    "threads = []\n",
    "for chunk in file_chunks:\n",
    "    for src_file, dest_file in chunk:\n",
    "        thread = threading.Thread(target=copy_file, args=(src_file, dest_file))\n",
    "        threads.append(thread)\n",
    "\n",
    "for thread in threads:\n",
    "    thread.start()\n",
    "\n",
    "for thread in threads:\n",
    "    thread.join()"
   ]
  },
  {
   "cell_type": "code",
   "execution_count": null,
   "id": "ecbb2b91",
   "metadata": {},
   "outputs": [],
   "source": []
  },
  {
   "cell_type": "markdown",
   "id": "d79f5007",
   "metadata": {},
   "source": [
    "# image file labeling"
   ]
  },
  {
   "cell_type": "code",
   "execution_count": 14,
   "id": "67dd986c",
   "metadata": {},
   "outputs": [],
   "source": [
    "root_dir = r\"D:\\01.Paul\\AIVI006_IK15HGAE_data_PCB\\train\"\n",
    "i = 0\n",
    "for dirpath, dirnames, filenames in os.walk(root_dir):\n",
    "    if dirpath.endswith('good'):\n",
    "        for file in filenames:\n",
    "            dest_dir = \"D:/01.Paul/AIVI006_IK15HGAE_data_ALL/train/good\"\n",
    "            dest_file = os.path.join(dest_dir, f\"good{i+1:03}.jpg\")\n",
    "            shutil.copy2(os.path.join(dirpath, file), dest_file)\n",
    "            i += 1"
   ]
  },
  {
   "cell_type": "code",
   "execution_count": 4,
   "id": "8b1f365b",
   "metadata": {},
   "outputs": [],
   "source": [
    "import os\n",
    "import shutil\n",
    "import pandas as pd\n",
    "import re\n",
    "from multiprocessing import Pool\n",
    "\n",
    "root_dir = r\"D:\\01.Paul\\AIVI005_IK15HGAE_data_PCB\\train\\Cam3P1L1\\obj2\"\n",
    "i = 0\n",
    "for dirpath, dirnames, filenames in os.walk(root_dir):\n",
    "    if dirpath.endswith('defective'):\n",
    "        for file in filenames:\n",
    "            dest_dir = \"D:/01.Paul/AIVI005_6_IK15HGAE_data_PCBCAM3/train/defective\"\n",
    "            dest_file = os.path.join(dest_dir, f\"defective{i+1:03}.jpg\")\n",
    "            shutil.copy2(os.path.join(dirpath, file), dest_file)\n",
    "            i += 1"
   ]
  },
  {
   "cell_type": "code",
   "execution_count": 5,
   "id": "87b44a2d",
   "metadata": {},
   "outputs": [],
   "source": [
    "root_dir = r\"D:\\01.Paul\\AIVI006_IK15HGAE_data_PCB\\train\\Cam3P1L1\\obj2\"\n",
    "i = 75\n",
    "for dirpath, dirnames, filenames in os.walk(root_dir):\n",
    "    if dirpath.endswith('defective'):\n",
    "        for file in filenames:\n",
    "            dest_dir = \"D:/01.Paul/AIVI005_6_IK15HGAE_data_PCBCAM3/train/defective\"\n",
    "            dest_file = os.path.join(dest_dir, f\"PCB{i+1:03}.jpg\")\n",
    "            shutil.copy2(os.path.join(dirpath, file), dest_file)\n",
    "            i += 1"
   ]
  },
  {
   "cell_type": "code",
   "execution_count": 6,
   "id": "00e878d2",
   "metadata": {},
   "outputs": [],
   "source": [
    "root_dir = r\"D:\\01.Paul\\AIVI005_IK15HGAE_data_PCB\\train\\Cam3P1L1\\obj2\"\n",
    "i = 0\n",
    "for dirpath, dirnames, filenames in os.walk(root_dir):\n",
    "    if dirpath.endswith('good'):\n",
    "        for file in filenames:\n",
    "            dest_dir = \"D:/01.Paul/AIVI005_6_IK15HGAE_data_PCBCAM3/train/good\"\n",
    "            dest_file = os.path.join(dest_dir, f\"good{i+1:03}.jpg\")\n",
    "            shutil.copy2(os.path.join(dirpath, file), dest_file)\n",
    "            i += 1"
   ]
  },
  {
   "cell_type": "code",
   "execution_count": 7,
   "id": "054fb360",
   "metadata": {},
   "outputs": [],
   "source": [
    "root_dir = r\"D:\\01.Paul\\AIVI006_IK15HGAE_data_good\\train\\Cam3P1L1\\obj2\"\n",
    "i = 60\n",
    "for dirpath, dirnames, filenames in os.walk(root_dir):\n",
    "    if dirpath.endswith('good'):\n",
    "        for file in filenames:\n",
    "            dest_dir = \"D:/01.Paul/AIVI005_6_IK15HGAE_data_PCBCAM3/train/good\"\n",
    "            dest_file = os.path.join(dest_dir, f\"good{i+1:03}.jpg\")\n",
    "            shutil.copy2(os.path.join(dirpath, file), dest_file)\n",
    "            i += 1"
   ]
  },
  {
   "cell_type": "code",
   "execution_count": 16,
   "id": "d74d0e50",
   "metadata": {},
   "outputs": [],
   "source": [
    "root_dir = r\"D:\\01.Paul\\AIVI006_IK15HGAE_data_AuWB\\train\"\n",
    "i = 0\n",
    "for dirpath, dirnames, filenames in os.walk(root_dir):\n",
    "    if dirpath.endswith('defective'):\n",
    "        for file in filenames:\n",
    "            dest_dir = \"D:/01.Paul/AIVI006_IK15HGAE_data_ALL/train/defective\"\n",
    "            dest_file = os.path.join(dest_dir, f\"AuWB{i+1:03}.jpg\")\n",
    "            shutil.copy2(os.path.join(dirpath, file), dest_file)\n",
    "            i += 1"
   ]
  },
  {
   "cell_type": "code",
   "execution_count": 17,
   "id": "45b069f4",
   "metadata": {},
   "outputs": [],
   "source": [
    "root_dir = r\"D:\\01.Paul\\AIVI006_IK15HGAE_data_AuWB\\test\"\n",
    "i = 0\n",
    "for dirpath, dirnames, filenames in os.walk(root_dir):\n",
    "    if dirpath.endswith('defective'):\n",
    "        for file in filenames:\n",
    "            dest_dir = \"D:/01.Paul/AIVI006_IK15HGAE_data_ALL/test/defective\"\n",
    "            dest_file = os.path.join(dest_dir, f\"AuWB{i+1:03}.jpg\")\n",
    "            shutil.copy2(os.path.join(dirpath, file), dest_file)\n",
    "            i += 1"
   ]
  },
  {
   "cell_type": "code",
   "execution_count": 35,
   "id": "d439de3c",
   "metadata": {},
   "outputs": [],
   "source": [
    "root_dir = r\"D:\\01.Paul\\AIVI006_IK15HGAE_data_AlWB\\train\"\n",
    "i = 0\n",
    "for dirpath, dirnames, filenames in os.walk(root_dir):\n",
    "    if dirpath.endswith('defective'):\n",
    "        for file in filenames:\n",
    "            dest_dir = \"D:/01.Paul/AIVI006_IK15HGAE_data_ALL/train/defective\"\n",
    "            dest_file = os.path.join(dest_dir, f\"AlWB{i+1:03}.jpg\")\n",
    "            shutil.copy2(os.path.join(dirpath, file), dest_file)\n",
    "            i += 1"
   ]
  },
  {
   "cell_type": "code",
   "execution_count": 36,
   "id": "d98d88b0",
   "metadata": {},
   "outputs": [],
   "source": [
    "root_dir = r\"D:\\01.Paul\\AIVI006_IK15HGAE_data_AlWB\\test\"\n",
    "i = 0\n",
    "for dirpath, dirnames, filenames in os.walk(root_dir):\n",
    "    if dirpath.endswith('defective'):\n",
    "        for file in filenames:\n",
    "            dest_dir = \"D:/01.Paul/AIVI006_IK15HGAE_data_ALL/test/defective\"\n",
    "            dest_file = os.path.join(dest_dir, f\"AlWB{i+1:03}.jpg\")\n",
    "            shutil.copy2(os.path.join(dirpath, file), dest_file)\n",
    "            i += 1"
   ]
  },
  {
   "cell_type": "code",
   "execution_count": 20,
   "id": "b5d082e9",
   "metadata": {},
   "outputs": [],
   "source": [
    "root_dir = r\"D:\\01.Paul\\AIVI006_IK15HGAE_data_IC\\train\"\n",
    "i = 0\n",
    "for dirpath, dirnames, filenames in os.walk(root_dir):\n",
    "    if dirpath.endswith('defective'):\n",
    "        for file in filenames:\n",
    "            dest_dir = \"D:/01.Paul/AIVI006_IK15HGAE_data_ALL/train/defective\"\n",
    "            dest_file = os.path.join(dest_dir, f\"IC{i+1:03}.jpg\")\n",
    "            shutil.copy2(os.path.join(dirpath, file), dest_file)\n",
    "            i += 1"
   ]
  },
  {
   "cell_type": "code",
   "execution_count": 21,
   "id": "3a58a0ca",
   "metadata": {},
   "outputs": [],
   "source": [
    "root_dir = r\"D:\\01.Paul\\AIVI006_IK15HGAE_data_IC\\test\"\n",
    "i = 0\n",
    "for dirpath, dirnames, filenames in os.walk(root_dir):\n",
    "    if dirpath.endswith('defective'):\n",
    "        for file in filenames:\n",
    "            dest_dir = \"D:/01.Paul/AIVI006_IK15HGAE_data_ALL/test/defective\"\n",
    "            dest_file = os.path.join(dest_dir, f\"IC{i+1:03}.jpg\")\n",
    "            shutil.copy2(os.path.join(dirpath, file), dest_file)\n",
    "            i += 1"
   ]
  },
  {
   "cell_type": "code",
   "execution_count": 22,
   "id": "1d6ef355",
   "metadata": {},
   "outputs": [],
   "source": [
    "root_dir = r\"D:\\01.Paul\\AIVI006_IK15HGAE_data_chip\\train\"\n",
    "i = 0\n",
    "for dirpath, dirnames, filenames in os.walk(root_dir):\n",
    "    if dirpath.endswith('defective'):\n",
    "        for file in filenames:\n",
    "            dest_dir = \"D:/01.Paul/AIVI006_IK15HGAE_data_ALL/train/defective\"\n",
    "            dest_file = os.path.join(dest_dir, f\"chip{i+1:03}.jpg\")\n",
    "            shutil.copy2(os.path.join(dirpath, file), dest_file)\n",
    "            i += 1"
   ]
  },
  {
   "cell_type": "code",
   "execution_count": 23,
   "id": "b95f0a76",
   "metadata": {},
   "outputs": [],
   "source": [
    "root_dir = r\"D:\\01.Paul\\AIVI006_IK15HGAE_data_chip\\test\"\n",
    "i = 0\n",
    "for dirpath, dirnames, filenames in os.walk(root_dir):\n",
    "    if dirpath.endswith('defective'):\n",
    "        for file in filenames:\n",
    "            dest_dir = \"D:/01.Paul/AIVI006_IK15HGAE_data_ALL/test/defective\"\n",
    "            dest_file = os.path.join(dest_dir, f\"chip{i+1:03}.jpg\")\n",
    "            shutil.copy2(os.path.join(dirpath, file), dest_file)\n",
    "            i += 1"
   ]
  },
  {
   "cell_type": "code",
   "execution_count": 24,
   "id": "aadc8bc8",
   "metadata": {},
   "outputs": [],
   "source": [
    "root_dir = r\"D:\\01.Paul\\AIVI006_IK15HGAE_data_ETC\\train\"\n",
    "i = 0\n",
    "for dirpath, dirnames, filenames in os.walk(root_dir):\n",
    "    if dirpath.endswith('defective'):\n",
    "        for file in filenames:\n",
    "            dest_dir = \"D:/01.Paul/AIVI006_IK15HGAE_data_ALL/train/defective\"\n",
    "            dest_file = os.path.join(dest_dir, f\"ETC{i+1:03}.jpg\")\n",
    "            shutil.copy2(os.path.join(dirpath, file), dest_file)\n",
    "            i += 1"
   ]
  },
  {
   "cell_type": "code",
   "execution_count": 25,
   "id": "ccceca6e",
   "metadata": {},
   "outputs": [],
   "source": [
    "root_dir = r\"D:\\01.Paul\\AIVI006_IK15HGAE_data_ETC\\test\"\n",
    "i = 0\n",
    "for dirpath, dirnames, filenames in os.walk(root_dir):\n",
    "    if dirpath.endswith('defective'):\n",
    "        for file in filenames:\n",
    "            dest_dir = \"D:/01.Paul/AIVI006_IK15HGAE_data_ALL/test/defective\"\n",
    "            dest_file = os.path.join(dest_dir, f\"ETC{i+1:03}.jpg\")\n",
    "            shutil.copy2(os.path.join(dirpath, file), dest_file)\n",
    "            i += 1"
   ]
  }
 ],
 "metadata": {
  "kernelspec": {
   "display_name": "Python 3 (ipykernel)",
   "language": "python",
   "name": "python3"
  },
  "language_info": {
   "codemirror_mode": {
    "name": "ipython",
    "version": 3
   },
   "file_extension": ".py",
   "mimetype": "text/x-python",
   "name": "python",
   "nbconvert_exporter": "python",
   "pygments_lexer": "ipython3",
   "version": "3.11.5"
  }
 },
 "nbformat": 4,
 "nbformat_minor": 5
}
