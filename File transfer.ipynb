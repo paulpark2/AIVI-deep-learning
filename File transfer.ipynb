{
 "cells": [
  {
   "cell_type": "code",
   "execution_count": 13,
   "id": "2c4e115a",
   "metadata": {},
   "outputs": [
    {
     "data": {
      "text/plain": [
       "\"\\nPCB\\n'PCON', 'FMP', 'PDMG'\\nAu WB\\n'SLT', 'WBD30', 'SGW30', 'MSW30', 'MSB'\\nAl wire\\n'SGW125', 'MSW125', 'MSW350', 'WBD125', 'WBD350', 'WLL125', 'BKW125',  'WLC350',  'FML', 'LFCON', 'HLOOP350'\\nDrive IC, NTC\\n'INCO', 'EOL', 'ICDP'\\nDiode, IGBT\\n'DBD', 'FMC', 'SOLOX', 'IDP', 'DLSOL', 'ILSOL'\\n공통\\n'ETC', 'MPQC', 'LFD', 'CUDT'\\n\""
      ]
     },
     "execution_count": 13,
     "metadata": {},
     "output_type": "execute_result"
    }
   ],
   "source": [
    "PCB\n",
    "'PCON', 'FMP', 'PDMG', 'PBNT'\n",
    "Au WB\n",
    "'SLT', 'WBD30', 'SGW30', 'MSW30', 'BKW30', 'MSB', 'BLT'\n",
    "Al wire\n",
    "'SGW125', 'MSW125', 'WLL125', 'BKW125', 'WBD125', 'WLP125', 'MSW350', 'WBD350', 'SGW350', 'BKW350', 'WLC350', 'HLOOP350', 'FML', 'LFCON', 'TLONG', 'TSHORT', 'BTM', 'MPO'\n",
    "Drive IC, NTC\n",
    "'INCO', 'EOL', 'ICDP', 'INCO_IC', \n",
    "Diode, IGBT\n",
    "'DBD', 'FMC', 'SOLOX', 'IDP', 'DLSOL', 'ILSOL', 'DDP', 'DCON', 'INKD', 'SOL', 'DSC'\n",
    "공통\n",
    "'ETC', 'MPQC', 'LFD', 'CUDT'"
   ]
  },
  {
   "cell_type": "markdown",
   "id": "744e4773",
   "metadata": {},
   "source": [
    "# Defective image trnasfer"
   ]
  },
  {
   "cell_type": "code",
   "execution_count": 1,
   "id": "b221f65d",
   "metadata": {},
   "outputs": [],
   "source": [
    "import os\n",
    "import shutil\n",
    "import pandas as pd\n",
    "import re"
   ]
  },
  {
   "cell_type": "code",
   "execution_count": 18,
   "id": "6be337b9",
   "metadata": {},
   "outputs": [],
   "source": [
    "root_dir = r\"E:\\IK_CLEAN\"\n",
    "for dirpath, dirnames, filenames in os.walk(root_dir):\n",
    "    if any(word in dirpath for word in ['SGW125']):\n",
    "        for file in filenames:\n",
    "            if file.endswith(\"Obj03.jpg\") and dirpath[-8:] == 'Cam2P1L1':\n",
    "                dest_dir = r\"E:\\IK_datacleaning\\IK_SGW125\\New folder\"\n",
    "            else:\n",
    "                continue\n",
    "            dest_file = os.path.join(dest_dir, file)\n",
    "            i=1\n",
    "            while os.path.exists(dest_file):\n",
    "                dest_file = os.path.join(dest_dir, f\"{os.path.splitext(file)[0]}_{i}{os.path.splitext(file)[1]}\")\n",
    "                i += 1\n",
    "            try:\n",
    "                shutil.copy2(os.path.join(dirpath, file), dest_file)\n",
    "            except:\n",
    "                pass"
   ]
  },
  {
   "cell_type": "code",
   "execution_count": null,
   "id": "168c9a7a",
   "metadata": {},
   "outputs": [],
   "source": []
  },
  {
   "cell_type": "code",
   "execution_count": 2,
   "id": "90a2e3c7",
   "metadata": {},
   "outputs": [],
   "source": [
    "root_dir = r\"D:\\01.Paul\\Notyetclean\"\n",
    "for dirpath, dirnames, filenames in os.walk(root_dir):\n",
    "    if any(word in dirpath for word in ['PCON', 'FMP', 'PDMG', 'PBNT']):\n",
    "        for file in filenames:\n",
    "            if file.endswith(\"Obj02.jpg\"):\n",
    "                dest_dir = \"D:/01.Paul/img_check/train/\"+ dirpath[-8:] + \"/obj2/defective\"\n",
    "            elif file.endswith(\"Obj05.jpg\"):\n",
    "                dest_dir = \"D:/01.Paul/img_check/train/\"+ dirpath[-8:] + \"/obj5/defective\"\n",
    "            else:\n",
    "                continue\n",
    "            dest_file = os.path.join(dest_dir, file)\n",
    "\n",
    "            i=1\n",
    "            while os.path.exists(dest_file):\n",
    "                dest_file = os.path.join(dest_dir, f\"{os.path.splitext(file)[0]}_{i}{os.path.splitext(file)[1]}\")\n",
    "                i += 1\n",
    "            try:\n",
    "                shutil.copy2(os.path.join(dirpath, file), dest_file)\n",
    "            except:\n",
    "                pass"
   ]
  },
  {
   "cell_type": "code",
   "execution_count": 3,
   "id": "82b24ac3",
   "metadata": {},
   "outputs": [],
   "source": [
    "root_dir = r\"D:\\01.Paul\\AIVI006_IK15HGA_test\""
   ]
  },
  {
   "cell_type": "code",
   "execution_count": 33,
   "id": "1c23b11e",
   "metadata": {},
   "outputs": [],
   "source": [
    "for dirpath, dirnames, filenames in os.walk(root_dir):\n",
    "    if any(word in dirpath for word in ['SGW125', 'MSW125', 'MSW350', 'WBD125', 'WBD350', 'WLL125', 'BKW125',  'WLC350',  'FML', 'LFCON', 'HLOOP350']):\n",
    "        for file in filenames:    \n",
    "            if file.endswith(\"Obj02.jpg\"):\n",
    "                dest_dir = \"D:/01.Paul/AIVI006_IK15HGAE_data_AlWB/test/\"+ dirpath[-8:] + \"/obj2/defective\"\n",
    "            elif file.endswith(\"Obj03.jpg\"):\n",
    "                dest_dir = \"D:/01.Paul/AIVI006_IK15HGAE_data_AlWB/test/\"+ dirpath[-8:] + \"/obj3/defective\"\n",
    "            elif file.endswith(\"Obj04.jpg\"):\n",
    "                dest_dir = \"D:/01.Paul/AIVI006_IK15HGAE_data_AlWB/test/\"+ dirpath[-8:] + \"/obj4/defective\"\n",
    "            elif file.endswith(\"Obj05.jpg\"):\n",
    "                dest_dir = \"D:/01.Paul/AIVI006_IK15HGAE_data_AlWB/test/\"+ dirpath[-8:] + \"/obj5/defective\"\n",
    "            else:\n",
    "                continue\n",
    "            dest_file = os.path.join(dest_dir, file)    \n",
    "\n",
    "            i=1\n",
    "            while os.path.exists(dest_file):\n",
    "                dest_file = os.path.join(dest_dir, f\"{os.path.splitext(file)[0]}_{i}{os.path.splitext(file)[1]}\")\n",
    "                i += 1\n",
    "            try:\n",
    "                shutil.copy2(os.path.join(dirpath, file), dest_file)\n",
    "            except:\n",
    "                pass"
   ]
  },
  {
   "cell_type": "markdown",
   "id": "9cd452dc",
   "metadata": {},
   "source": [
    "# Good image transfer"
   ]
  },
  {
   "cell_type": "code",
   "execution_count": 3,
   "id": "94fe7810",
   "metadata": {},
   "outputs": [],
   "source": [
    "import os\n",
    "import shutil\n",
    "import pandas as pd\n",
    "import re\n",
    "\n",
    "lst7 = ['MAG001\\Cam3P1L1','MAG002\\Cam3P1L1','MAG003\\Cam3P1L1','MAG004\\Cam3P1L1','MAG005\\Cam3P1L1','MAG006\\Cam3P1L1','MAG007\\Cam3P1L1','MAG008\\Cam3P1L1','MAG009\\Cam3P1L1','MAG010\\Cam3P1L1']\n",
    "#lst8 = ['MAG001\\Cam3P1L2','MAG002\\Cam3P1L2','MAG003\\Cam3P1L2','MAG004\\Cam3P1L2','MAG005\\Cam3P1L2','MAG006\\Cam3P1L2','MAG007\\Cam3P1L2','MAG008\\Cam3P1L2','MAG009\\Cam3P1L2','MAG010\\Cam3P1L2']\n",
    "root_dir = r\"E:\\IK_CLEAN\"\n",
    "\n",
    "for dirpath, dirnames, filenames in os.walk(root_dir):\n",
    "    if dirpath[-15:] in lst8:\n",
    "        for file in filenames:       \n",
    "            if file.endswith(\"Obj02.jpg\"):\n",
    "                dest_dir = r\"E:\\IK_datacleaning\\IK_GOOD\"\n",
    "            else:\n",
    "                continue\n",
    "            dest_file = os.path.join(dest_dir,  file)\n",
    "\n",
    "            i=1\n",
    "            while os.path.exists(dest_file):\n",
    "                dest_file = os.path.join(dest_dir, f\"{os.path.splitext(file)[0]}_{i}{os.path.splitext(file)[1]}\")\n",
    "                i += 1\n",
    "            shutil.copy2(os.path.join(dirpath, file), dest_file)"
   ]
  },
  {
   "cell_type": "code",
   "execution_count": 19,
   "id": "3bedeff6",
   "metadata": {},
   "outputs": [
    {
     "name": "stdout",
     "output_type": "stream",
     "text": [
      "Copy completed!\n"
     ]
    }
   ],
   "source": [
    "import os\n",
    "import shutil\n",
    "import random\n",
    "\n",
    "# Set the directory where your good images are stored\n",
    "source_directory = r\"E:\\IK_datacleaning\\IK_GOOD\"\n",
    "\n",
    "# Set the directory where you want to copy the images to\n",
    "target_directory = r\"E:\\Dataset\\IK_pcb_L12_augmented\\train\\good\"\n",
    "\n",
    "# If the target directory doesn't exist, create it\n",
    "if not os.path.exists(target_directory):\n",
    "    os.makedirs(target_directory)\n",
    "\n",
    "# List all files in the source directory\n",
    "all_files = os.listdir(source_directory)\n",
    "\n",
    "# Filter out any non-image files if necessary (assuming images have .jpg extension)\n",
    "good_images = [file for file in all_files if file.endswith('.jpg')]\n",
    "\n",
    "# Randomly sample 5000 images from the good_images list\n",
    "selected_images = random.sample(good_images, 11040)\n",
    "\n",
    "# Copy the selected images to the target directory\n",
    "for image in selected_images:\n",
    "    shutil.copy(os.path.join(source_directory, image), target_directory)\n",
    "\n",
    "print(\"Copy completed!\")"
   ]
  },
  {
   "cell_type": "code",
   "execution_count": null,
   "id": "270f59d7",
   "metadata": {},
   "outputs": [],
   "source": []
  },
  {
   "cell_type": "code",
   "execution_count": 6,
   "id": "8ddcf2f4",
   "metadata": {},
   "outputs": [],
   "source": [
    "import os\n",
    "import shutil\n",
    "import pandas as pd\n",
    "import re\n",
    "\n",
    "lst1 = ['MAG001\\Cam1P1L1','MAG002\\Cam1P1L1','MAG003\\Cam1P1L1','MAG004\\Cam1P1L1','MAG005\\Cam1P1L1','MAG006\\Cam1P1L1','MAG007\\Cam1P1L1','MAG008\\Cam1P1L1','MAG009\\Cam1P1L1','MAG010\\Cam1P1L1']\n",
    "lst2 = ['MAG001\\Cam1P1L2','MAG002\\Cam1P1L2','MAG003\\Cam1P1L2','MAG004\\Cam1P1L2','MAG005\\Cam1P1L2','MAG006\\Cam1P1L2','MAG007\\Cam1P1L2','MAG008\\Cam1P1L2','MAG009\\Cam1P1L2','MAG010\\Cam1P1L2']\n",
    "lst3 = ['MAG001\\Cam1P1L3','MAG002\\Cam1P1L3','MAG003\\Cam1P1L3','MAG004\\Cam1P1L3','MAG005\\Cam1P1L3','MAG006\\Cam1P1L3','MAG007\\Cam1P1L3','MAG008\\Cam1P1L3','MAG009\\Cam1P1L3','MAG010\\Cam1P1L3']\n",
    "lst4 = ['MAG001\\Cam2P1L1','MAG002\\Cam2P1L1','MAG003\\Cam2P1L1','MAG004\\Cam2P1L1','MAG005\\Cam2P1L1','MAG006\\Cam2P1L1','MAG007\\Cam2P1L1','MAG008\\Cam2P1L1','MAG009\\Cam2P1L1','MAG010\\Cam2P1L1']\n",
    "lst5 = ['MAG001\\Cam2P1L2','MAG002\\Cam2P1L2','MAG003\\Cam2P1L2','MAG004\\Cam2P1L2','MAG005\\Cam2P1L2','MAG006\\Cam2P1L2','MAG007\\Cam2P1L2','MAG008\\Cam2P1L2','MAG009\\Cam2P1L2','MAG010\\Cam2P1L2']\n",
    "lst6 = ['MAG001\\Cam2P1L3','MAG002\\Cam2P1L3','MAG003\\Cam2P1L3','MAG004\\Cam2P1L3','MAG005\\Cam2P1L3','MAG006\\Cam2P1L3','MAG007\\Cam2P1L3','MAG008\\Cam2P1L3','MAG009\\Cam2P1L3','MAG010\\Cam2P1L3']\n",
    "lst7 = ['MAG001\\Cam3P1L1','MAG002\\Cam3P1L1','MAG003\\Cam3P1L1','MAG004\\Cam3P1L1','MAG005\\Cam3P1L1','MAG006\\Cam3P1L1','MAG007\\Cam3P1L1','MAG008\\Cam3P1L1','MAG009\\Cam3P1L1','MAG010\\Cam3P1L1']\n",
    "lst8 = ['MAG001\\Cam3P1L2','MAG002\\Cam3P1L2','MAG003\\Cam3P1L2','MAG004\\Cam3P1L2','MAG005\\Cam3P1L2','MAG006\\Cam3P1L2','MAG007\\Cam3P1L2','MAG008\\Cam3P1L2','MAG009\\Cam3P1L2','MAG010\\Cam3P1L2']\n",
    "lst9 = ['MAG001\\Cam3P1L3','MAG002\\Cam3P1L3','MAG003\\Cam3P1L3','MAG004\\Cam3P1L3','MAG005\\Cam3P1L3','MAG006\\Cam3P1L3','MAG007\\Cam3P1L3','MAG008\\Cam3P1L3','MAG009\\Cam3P1L3','MAG010\\Cam3P1L3']\n",
    "\n",
    "root_dir = r\"D:\\01.Paul\\AIVI002_IK15HE_train\"\n",
    "\n",
    "for dirpath, dirnames, filenames in os.walk(root_dir):\n",
    "    for j in range(1,10):\n",
    "        if dirpath[-15:] in locals()['lst{}'.format(j)]:\n",
    "            for file in filenames:       \n",
    "                if file.endswith(\"Obj02.jpg\"):\n",
    "                    dest_dir = \"D:\\\\01.Paul\\\\AIVI002_IK15HGAE_data_PCB\\\\train\\\\\" + locals()['lst{}'.format(j)][0][7:15] + \"\\\\obj2\\\\good\"\n",
    "                elif file.endswith(\"Obj03.jpg\"):\n",
    "                    dest_dir = \"D:\\\\01.Paul\\\\AIVI002_IK15HGAE_data_PCB\\\\train\\\\\" + locals()['lst{}'.format(j)][0][7:15] + \"\\\\obj3\\\\good\"\n",
    "                elif file.endswith(\"Obj04.jpg\"):\n",
    "                    dest_dir = \"D:\\\\01.Paul\\\\AIVI002_IK15HGAE_data_PCB\\\\train\\\\\" + locals()['lst{}'.format(j)][0][7:15] + \"\\\\obj4\\\\good\"\n",
    "                elif file.endswith(\"Obj05.jpg\"):\n",
    "                    dest_dir = \"D:\\\\01.Paul\\\\AIVI002_IK15HGAE_data_PCB\\\\train\\\\\" + locals()['lst{}'.format(j)][0][7:15] + \"\\\\obj5\\\\good\"\n",
    "                else:\n",
    "                    continue\n",
    "                dest_file = os.path.join(dest_dir,  file)\n",
    "                \n",
    "                i=1\n",
    "                while os.path.exists(dest_file):\n",
    "                    dest_file = os.path.join(dest_dir, f\"{os.path.splitext(file)[0]}_{i}{os.path.splitext(file)[1]}\")\n",
    "                    i += 1\n",
    "                shutil.copy2(os.path.join(dirpath, file), dest_file)"
   ]
  },
  {
   "cell_type": "code",
   "execution_count": null,
   "id": "ecbb2b91",
   "metadata": {},
   "outputs": [],
   "source": []
  },
  {
   "cell_type": "code",
   "execution_count": 25,
   "id": "ccceca6e",
   "metadata": {},
   "outputs": [],
   "source": [
    "root_dir = r\"D:\\01.Paul\\AIVI006_IK15HGAE_data_ETC\\test\"\n",
    "i = 0\n",
    "for dirpath, dirnames, filenames in os.walk(root_dir):\n",
    "    if dirpath.endswith('defective'):\n",
    "        for file in filenames:\n",
    "            dest_dir = \"D:/01.Paul/AIVI006_IK15HGAE_data_ALL/test/defective\"\n",
    "            dest_file = os.path.join(dest_dir, f\"ETC{i+1:03}.jpg\")\n",
    "            shutil.copy2(os.path.join(dirpath, file), dest_file)\n",
    "            i += 1"
   ]
  }
 ],
 "metadata": {
  "kernelspec": {
   "display_name": "Python 3 (ipykernel)",
   "language": "python",
   "name": "python3"
  },
  "language_info": {
   "codemirror_mode": {
    "name": "ipython",
    "version": 3
   },
   "file_extension": ".py",
   "mimetype": "text/x-python",
   "name": "python",
   "nbconvert_exporter": "python",
   "pygments_lexer": "ipython3",
   "version": "3.11.5"
  }
 },
 "nbformat": 4,
 "nbformat_minor": 5
}
