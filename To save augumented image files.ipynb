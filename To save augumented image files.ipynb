{
 "cells": [
  {
   "cell_type": "code",
   "execution_count": 1,
   "id": "2c8b946c",
   "metadata": {},
   "outputs": [],
   "source": [
    "import os\n",
    "import numpy as np\n",
    "from tensorflow.keras.preprocessing.image import ImageDataGenerator\n",
    "from tensorflow.keras.utils import Sequence\n",
    "from tensorflow.keras.models import Sequential\n",
    "from tensorflow.keras.layers import Conv2D, MaxPooling2D, Flatten, Dense\n",
    "from sklearn.utils.class_weight import compute_class_weight"
   ]
  },
  {
   "cell_type": "code",
   "execution_count": null,
   "id": "87bee619",
   "metadata": {},
   "outputs": [],
   "source": [
    "original_train_dir = 'E:\\IK_TRAIN\\IK_FMP'\n",
    "augmented_train_dir = \"E:\\augmented\""
   ]
  },
  {
   "cell_type": "code",
   "execution_count": null,
   "id": "9d407f6a",
   "metadata": {},
   "outputs": [],
   "source": [
    "os.makedirs(augmented_train_dir, exist_ok=True)"
   ]
  },
  {
   "cell_type": "code",
   "execution_count": null,
   "id": "8f26a9d6",
   "metadata": {},
   "outputs": [],
   "source": [
    "img_height, img_width = 150, 150\n",
    "batch_size = 32\n",
    "num_classes = 4"
   ]
  },
  {
   "cell_type": "code",
   "execution_count": 42,
   "id": "5da5286d",
   "metadata": {},
   "outputs": [],
   "source": [
    "augmentation = ImageDataGenerator(\n",
    "    rescale=1./255,\n",
    "    brightness_range=[0.8,1.2],\n",
    "    shear_range=0.2,\n",
    "    channel_shift_range=20\n",
    ")"
   ]
  },
  {
   "cell_type": "code",
   "execution_count": null,
   "id": "8413881c",
   "metadata": {},
   "outputs": [],
   "source": [
    "original_datagen = ImageDataGenerator(rescale=1./255)"
   ]
  },
  {
   "cell_type": "code",
   "execution_count": null,
   "id": "f8581a71",
   "metadata": {},
   "outputs": [],
   "source": [
    "augmented_datagen = ImageDataGenerator(rescale=1./255)"
   ]
  },
  {
   "cell_type": "code",
   "execution_count": null,
   "id": "b3a1559a",
   "metadata": {},
   "outputs": [],
   "source": [
    "original_generator = original_datagen.flow_from_directory(\n",
    "    original_train_dir,\n",
    "    target_size=(img_height, img_width),\n",
    "    batch_size=batch_size,\n",
    "    class_mode='categorical'\n",
    ")"
   ]
  },
  {
   "cell_type": "code",
   "execution_count": null,
   "id": "0439ea5a",
   "metadata": {},
   "outputs": [],
   "source": [
    "augmented_generator = augmented_datagen.flow_from_directory(\n",
    "    augmented_train_dir,\n",
    "    target_size=(img_height, img_width),\n",
    "    batch_size=batch_size,\n",
    "    class_mode='categorical'\n",
    ")"
   ]
  },
  {
   "cell_type": "code",
   "execution_count": 43,
   "id": "04a59b58",
   "metadata": {},
   "outputs": [
    {
     "name": "stdout",
     "output_type": "stream",
     "text": [
      "Found 23 images belonging to 1 classes.\n"
     ]
    }
   ],
   "source": [
    "defect_FMP_generator = augmentation.flow_from_directory(\n",
    "    defect_FMP_dir,\n",
    "    target_size=(150, 150),\n",
    "    batch_size=batch_size,\n",
    "    class_mode='binary',  # or 'categorical' based on your labeling\n",
    "    save_to_dir=augmented_defect_FMP_dir,  # Augmented images will be saved here\n",
    "    save_prefix='aug',\n",
    "    save_format='jpg'\n",
    ")"
   ]
  },
  {
   "cell_type": "code",
   "execution_count": null,
   "id": "8b98e0cd",
   "metadata": {},
   "outputs": [],
   "source": [
    "defect_PDMG_generator = augmentation.flow_from_directory(\n",
    "    defect_PDMG_dir,\n",
    "    target_size=(150, 150),\n",
    "    batch_size=batch_size,\n",
    "    class_mode='binary',  # or 'categorical' based on your labeling\n",
    "    save_to_dir=augmented_defect_PDMG_dir,  # Augmented images will be saved here\n",
    "    save_prefix='aug',\n",
    "    save_format='jpg'\n",
    ")"
   ]
  },
  {
   "cell_type": "code",
   "execution_count": 48,
   "id": "a5f31cb0",
   "metadata": {},
   "outputs": [],
   "source": [
    "num_batches_to_save = 9"
   ]
  },
  {
   "cell_type": "code",
   "execution_count": 49,
   "id": "37fb4070",
   "metadata": {},
   "outputs": [],
   "source": [
    "for i in range(num_batches_to_save):\n",
    "    images, labels = next(defect_FMP_generator)"
   ]
  },
  {
   "cell_type": "code",
   "execution_count": null,
   "id": "928b0a6d",
   "metadata": {},
   "outputs": [],
   "source": [
    "num_batches_to_save = 12"
   ]
  },
  {
   "cell_type": "code",
   "execution_count": null,
   "id": "acc3720d",
   "metadata": {},
   "outputs": [],
   "source": [
    "for i in range(num_batches_to_save):\n",
    "    images, labels = next(defect_PDMG_generator)"
   ]
  },
  {
   "cell_type": "code",
   "execution_count": null,
   "id": "716b55ec",
   "metadata": {},
   "outputs": [],
   "source": []
  }
 ],
 "metadata": {
  "kernelspec": {
   "display_name": "Python 3 (ipykernel)",
   "language": "python",
   "name": "python3"
  },
  "language_info": {
   "codemirror_mode": {
    "name": "ipython",
    "version": 3
   },
   "file_extension": ".py",
   "mimetype": "text/x-python",
   "name": "python",
   "nbconvert_exporter": "python",
   "pygments_lexer": "ipython3",
   "version": "3.11.5"
  }
 },
 "nbformat": 4,
 "nbformat_minor": 5
}
