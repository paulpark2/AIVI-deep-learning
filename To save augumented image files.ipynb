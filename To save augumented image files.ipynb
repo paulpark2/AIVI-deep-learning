{
 "cells": [
  {
   "cell_type": "code",
   "execution_count": 39,
   "id": "4d0d8ffb",
   "metadata": {},
   "outputs": [
    {
     "name": "stdout",
     "output_type": "stream",
     "text": [
      "Found 337 images belonging to 1 classes.\n"
     ]
    }
   ],
   "source": [
    "import os\n",
    "from tensorflow.keras.preprocessing.image import ImageDataGenerator\n",
    "\n",
    "# Path setup\n",
    "original_train_dir = r\"E:\\IK_datacleaning\\IK_PDMG_CAM3\"  # Original images directory\n",
    "augmented_train_dir = r\"E:\\IK_datacleaning\\IK_PDMG_CAM3_augmented\"  # Directory to save augmented images\n",
    "os.makedirs(augmented_train_dir, exist_ok=True)\n",
    "\n",
    "# Image configuration\n",
    "img_height, img_width = 224, 224\n",
    "\n",
    "# Define ImageDataGenerator for augmentation\n",
    "augmentation = ImageDataGenerator(\n",
    "    rescale=1./255,\n",
    "    brightness_range=[0.8, 1.2],\n",
    "    shear_range=0.2,\n",
    "    channel_shift_range=20\n",
    ")\n",
    "\n",
    "# Flow from directory setup\n",
    "defect_generator = augmentation.flow_from_directory(\n",
    "    original_train_dir,\n",
    "    target_size=(img_height, img_width),\n",
    "    batch_size=1,  # Process one image at a time\n",
    "    class_mode='binary',  # or 'categorical' based on your labeling\n",
    "    save_to_dir=augmented_train_dir,  # Save augmented images here\n",
    "    save_prefix='aug',\n",
    "    save_format='jpg'\n",
    ")\n",
    "\n",
    "# Initialize a counter for the augmented images\n",
    "augmented_images_count = 0\n",
    "total_augmented_images_needed = 3343  # Total number of augmented images you want\n",
    "\n",
    "while augmented_images_count < total_augmented_images_needed:\n",
    "    # Generate augmented image\n",
    "    images, labels = next(defect_generator)\n",
    "    augmented_images_count += 1  # Increment the counter"
   ]
  },
  {
   "cell_type": "code",
   "execution_count": null,
   "id": "fef1349f",
   "metadata": {},
   "outputs": [],
   "source": []
  }
 ],
 "metadata": {
  "kernelspec": {
   "display_name": "Python 3 (ipykernel)",
   "language": "python",
   "name": "python3"
  },
  "language_info": {
   "codemirror_mode": {
    "name": "ipython",
    "version": 3
   },
   "file_extension": ".py",
   "mimetype": "text/x-python",
   "name": "python",
   "nbconvert_exporter": "python",
   "pygments_lexer": "ipython3",
   "version": "3.11.5"
  }
 },
 "nbformat": 4,
 "nbformat_minor": 5
}
