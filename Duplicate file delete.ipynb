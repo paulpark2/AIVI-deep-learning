{
 "cells": [
  {
   "cell_type": "code",
   "execution_count": 2,
   "id": "4c2fe276",
   "metadata": {},
   "outputs": [],
   "source": [
    "import os\n",
    "import pandas as pd\n",
    "import shutil"
   ]
  },
  {
   "cell_type": "code",
   "execution_count": 5,
   "id": "dcf2d7b7",
   "metadata": {},
   "outputs": [],
   "source": [
    "df = pd.read_csv('duplicate.csv')\n",
    "reject = df['LOTNO'].tolist()\n",
    "\n",
    "root_dir = r\"C:\\Users\\parkpaul\\Downloads\"\n",
    "\n",
    "for dirpath, dirnames, filenames in os.walk(root_dir):\n",
    "    for filename in filenames:\n",
    "        if any(lot in filename for lot in reject):\n",
    "            file_path = os.path.join(dirpath, filename)\n",
    "            os.remove(file_path)"
   ]
  },
  {
   "cell_type": "code",
   "execution_count": 7,
   "id": "e4a9352f",
   "metadata": {},
   "outputs": [],
   "source": [
    "root_dir = r\"D:\\01.Paul\\Extract file\\AIVI003 ALL\""
   ]
  },
  {
   "cell_type": "code",
   "execution_count": 8,
   "id": "7c499dbc",
   "metadata": {},
   "outputs": [],
   "source": [
    "df2 = pd.read_csv('2401AIVI003.csv')\n",
    "good = df2['LOTNO'].tolist()\n",
    "\n",
    "for dirpath, dirnames, filenames in os.walk(root_dir):\n",
    "    for filename in filenames:\n",
    "        if any(lot in filename for lot in good):\n",
    "            file_path = os.path.join(dirpath, filename)\n",
    "            dest_dir = \"D:/01.Paul/Extract file/2401AIVI003_IK\"\n",
    "            dest_file = os.path.join(dest_dir, filename)\n",
    "            shutil.copy2(file_path, dest_file)"
   ]
  },
  {
   "cell_type": "code",
   "execution_count": null,
   "id": "3ea893e8",
   "metadata": {},
   "outputs": [],
   "source": []
  },
  {
   "cell_type": "code",
   "execution_count": null,
   "id": "a0ddd5ec",
   "metadata": {},
   "outputs": [],
   "source": [
    "#directory remove\n",
    "import shutil\n",
    "import os\n",
    "root_dir = r\"D:\\01.Paul\\AIVI006_IK15HGAE_data_PCB\"\n",
    "remove = ['Cam1P1L1\\obj2', 'Cam1P1L1\\obj5','Cam1P1L2\\obj2', 'Cam1P1L2\\obj5','Cam1P1L3\\obj2', 'Cam1P1L3\\obj5','Cam2P1L1\\obj2', 'Cam2P1L1\\obj5','Cam2P1L2\\obj2', 'Cam2P1L2\\obj5','Cam2P1L3\\obj2', 'Cam2P1L3\\obj5', 'Cam3P1L1\\obj3', 'Cam3P1L1\\obj4','Cam3P1L2\\obj3', 'Cam3P1L2\\obj4','Cam3P1L3\\obj3', 'Cam3P1L3\\obj4']\n",
    "for dirpath, dirnames, filenames in os.walk(root_dir):\n",
    "    if any(word in dirpath for word in remove):\n",
    "        shutil.rmtree(dirpath)"
   ]
  },
  {
   "cell_type": "code",
   "execution_count": null,
   "id": "b2af6b83",
   "metadata": {},
   "outputs": [],
   "source": []
  }
 ],
 "metadata": {
  "kernelspec": {
   "display_name": "Python 3 (ipykernel)",
   "language": "python",
   "name": "python3"
  },
  "language_info": {
   "codemirror_mode": {
    "name": "ipython",
    "version": 3
   },
   "file_extension": ".py",
   "mimetype": "text/x-python",
   "name": "python",
   "nbconvert_exporter": "python",
   "pygments_lexer": "ipython3",
   "version": "3.11.5"
  }
 },
 "nbformat": 4,
 "nbformat_minor": 5
}
