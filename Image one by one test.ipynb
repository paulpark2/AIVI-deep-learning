{
 "cells": [
  {
   "cell_type": "code",
   "execution_count": null,
   "id": "306c13ac",
   "metadata": {},
   "outputs": [],
   "source": [
    "#img_path = \"D:\\\\01.Paul\\\\AIVI006_IK15HGA_test\\\\2Z326093\\\\MAG004(PCON)\\\\Cam3P1L1\\\\2Z326093(2)Obj02.jpg\"\n",
    "img_path = \"E:\\raw data\\AIVI005_IK15HGAE_test\\MAG001\\Cam3P1L1\\2Z3270GHObj02.jpg\"\n",
    "\"D:\\\\01.Paul\\\\AIVI006_IK15HGA_test\\\\2Z333025\\\\MAG001(PCON)\\\\Cam3P1L1\\\\2Z333025Obj02.jpg\"\n",
    "\"D:\\\\01.Paul\\\\AIVI006_IK15HGA_test\\\\MAG004(CAM3obj2)\\\\Cam3P1L1\\\\2Z3260ALObj02.jpg\"\n",
    "#pcon\n",
    "\"E:\\raw data\\AIVI003_04G_test\\2Z3300CD\\MAG001\\Cam3P1L1\\Frame007B1Row1Col03Obj02.jpg\""
   ]
  },
  {
   "cell_type": "code",
   "execution_count": 1,
   "id": "632f578c",
   "metadata": {},
   "outputs": [],
   "source": [
    "import tensorflow as tf\n",
    "from tensorflow.keras.preprocessing import image\n",
    "from tensorflow.keras.applications.resnet50 import preprocess_input\n",
    "import numpy as np\n",
    "import os\n",
    "from tensorflow.keras.applications import ResNet50\n",
    "from tensorflow.keras.layers import GlobalAveragePooling2D, Dense\n",
    "from tensorflow.keras.models import Model\n",
    "from tensorflow.keras.preprocessing.image import ImageDataGenerator"
   ]
  },
  {
   "cell_type": "code",
   "execution_count": 2,
   "id": "ab038ddb",
   "metadata": {},
   "outputs": [
    {
     "name": "stderr",
     "output_type": "stream",
     "text": [
      "C:\\Users\\parkpaul\\AppData\\Local\\anaconda3\\Lib\\site-packages\\keras\\src\\saving\\saving_lib.py:396: UserWarning: Skipping variable loading for optimizer 'rmsprop', because it has 218 variables whereas the saved optimizer has 34 variables. \n",
      "  trackable.load_own_variables(weights_store.get(inner_path))\n"
     ]
    }
   ],
   "source": [
    "model = tf.keras.models.load_model('IK_pcb_L12.keras')"
   ]
  },
  {
   "cell_type": "code",
   "execution_count": 13,
   "id": "a38a1088",
   "metadata": {},
   "outputs": [
    {
     "name": "stdout",
     "output_type": "stream",
     "text": [
      "\u001b[1m1/1\u001b[0m \u001b[32m━━━━━━━━━━━━━━━━━━━━\u001b[0m\u001b[37m\u001b[0m \u001b[1m0s\u001b[0m 212ms/step\n"
     ]
    }
   ],
   "source": [
    "img_size=224\n",
    "img_path = r\"E:\\test\\good2.jpg\"  # replace with your image path\n",
    "img = image.load_img(img_path, target_size=(img_size, img_size))\n",
    "\n",
    "# Convert the image to a numpy array and rescale it\n",
    "img_array = image.img_to_array(img)\n",
    "img_array = np.expand_dims(img_array, axis=0)\n",
    "img_array /= 255.\n",
    "\n",
    "# Use the model to make the prediction\n",
    "prediction = model.predict(img_array)"
   ]
  },
  {
   "cell_type": "code",
   "execution_count": 14,
   "id": "99a41020",
   "metadata": {},
   "outputs": [
    {
     "data": {
      "text/plain": [
       "array([[0.94747275]], dtype=float32)"
      ]
     },
     "execution_count": 14,
     "metadata": {},
     "output_type": "execute_result"
    }
   ],
   "source": [
    "prediction"
   ]
  },
  {
   "cell_type": "code",
   "execution_count": null,
   "id": "014663e1",
   "metadata": {},
   "outputs": [],
   "source": []
  }
 ],
 "metadata": {
  "kernelspec": {
   "display_name": "Python 3 (ipykernel)",
   "language": "python",
   "name": "python3"
  },
  "language_info": {
   "codemirror_mode": {
    "name": "ipython",
    "version": 3
   },
   "file_extension": ".py",
   "mimetype": "text/x-python",
   "name": "python",
   "nbconvert_exporter": "python",
   "pygments_lexer": "ipython3",
   "version": "3.11.5"
  }
 },
 "nbformat": 4,
 "nbformat_minor": 5
}
