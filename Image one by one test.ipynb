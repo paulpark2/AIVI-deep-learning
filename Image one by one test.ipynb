{
 "cells": [
  {
   "cell_type": "code",
   "execution_count": null,
   "id": "306c13ac",
   "metadata": {},
   "outputs": [],
   "source": [
    "#img_path = \"D:\\\\01.Paul\\\\AIVI006_IK15HGA_test\\\\2Z326093\\\\MAG004(PCON)\\\\Cam3P1L1\\\\2Z326093(2)Obj02.jpg\"\n",
    "img_path = \"D:\\\\01.Paul\\\\AIVI006_IK15HGAE_data_good\\\\train\\\\Cam3P1L1\\obj2\\\\good\\\\2Z3260ALObj02.jpg\"\n",
    "\"D:\\\\01.Paul\\\\AIVI006_IK15HGA_test\\\\2Z333025\\\\MAG001(PCON)\\\\Cam3P1L1\\\\2Z333025Obj02.jpg\"\n",
    "\"D:\\\\01.Paul\\\\AIVI006_IK15HGA_test\\\\MAG004(CAM3obj2)\\\\Cam3P1L1\\\\2Z3260ALObj02.jpg\""
   ]
  },
  {
   "cell_type": "code",
   "execution_count": 1,
   "id": "632f578c",
   "metadata": {},
   "outputs": [],
   "source": [
    "import tensorflow as tf\n",
    "from tensorflow.keras.preprocessing import image\n",
    "from tensorflow.keras.applications.resnet50 import preprocess_input\n",
    "import numpy as np\n",
    "import os\n",
    "from tensorflow.keras.applications import ResNet50\n",
    "from tensorflow.keras.layers import GlobalAveragePooling2D, Dense\n",
    "from tensorflow.keras.models import Model\n",
    "from tensorflow.keras.preprocessing.image import ImageDataGenerator"
   ]
  },
  {
   "cell_type": "code",
   "execution_count": 2,
   "id": "ab038ddb",
   "metadata": {},
   "outputs": [],
   "source": [
    "model = tf.keras.models.load_model('AIVI005_6_PCB.h5')"
   ]
  },
  {
   "cell_type": "code",
   "execution_count": 11,
   "id": "a38a1088",
   "metadata": {},
   "outputs": [
    {
     "name": "stdout",
     "output_type": "stream",
     "text": [
      "1/1 [==============================] - 0s 189ms/step\n"
     ]
    }
   ],
   "source": [
    "img_size=224\n",
    "img_path = \"D:\\\\01.Paul\\\\AIVI006_IK15HGA_test\\\\MAG004(CAM3obj2)\\\\Cam3P1L1\\\\2Z3260ALObj02.jpg\"  # replace with your image path\n",
    "img = image.load_img(img_path, target_size=(img_size, img_size))\n",
    "\n",
    "# Convert the image to a numpy array and rescale it\n",
    "img_array = image.img_to_array(img)\n",
    "img_array = np.expand_dims(img_array, axis=0)\n",
    "img_array /= 255.\n",
    "\n",
    "# Use the model to make the prediction\n",
    "prediction = model.predict(img_array)"
   ]
  },
  {
   "cell_type": "code",
   "execution_count": 12,
   "id": "99a41020",
   "metadata": {},
   "outputs": [
    {
     "data": {
      "text/plain": [
       "array([[0.5834497]], dtype=float32)"
      ]
     },
     "execution_count": 12,
     "metadata": {},
     "output_type": "execute_result"
    }
   ],
   "source": [
    "prediction"
   ]
  },
  {
   "cell_type": "code",
   "execution_count": 3,
   "id": "4c471f86",
   "metadata": {},
   "outputs": [],
   "source": [
    "# Function to load and preprocess a single image\n",
    "def load_and_preprocess_image(img_path, img_size):\n",
    "    # Load the image file, targeting the size required for ResNet50 model\n",
    "    img = image.load_img(img_path, target_size=(img_size, img_size))\n",
    "    # Convert the image to a numpy array and rescale it\n",
    "    img_array = image.img_to_array(img) * 1./255\n",
    "    # Expand dimensions to fit the model input\n",
    "    img_array = np.expand_dims(img_array, axis=0)\n",
    "    return img_array\n",
    "\n",
    "# Function to predict the class of the image\n",
    "def predict_image_class(model, img_array):\n",
    "    # Predict the probability across all output classes\n",
    "    predictions = model.predict(img_array)\n",
    "    # If the model includes a softmax activation in the last layer, the output will be the probabilities of the classes\n",
    "    return predictions"
   ]
  },
  {
   "cell_type": "code",
   "execution_count": 4,
   "id": "d1c37fb9",
   "metadata": {},
   "outputs": [
    {
     "name": "stdout",
     "output_type": "stream",
     "text": [
      "1/1 [==============================] - 2s 2s/step\n"
     ]
    }
   ],
   "source": [
    "# Load and preprocess the image\n",
    "image_path = \"D:\\\\01.Paul\\\\AIVI006_IK15HGAE_data_good\\\\train\\\\Cam3P1L1\\obj2\\\\good\\\\2Z3260ALObj02.jpg\"\n",
    "img_size = 224\n",
    "preprocessed_image = load_and_preprocess_image(image_path, img_size)\n",
    "\n",
    "# Predict the class of the image\n",
    "prediction = predict_image_class(model, preprocessed_image)"
   ]
  },
  {
   "cell_type": "code",
   "execution_count": 5,
   "id": "46701291",
   "metadata": {},
   "outputs": [
    {
     "data": {
      "text/plain": [
       "array([[0.5834497]], dtype=float32)"
      ]
     },
     "execution_count": 5,
     "metadata": {},
     "output_type": "execute_result"
    }
   ],
   "source": [
    "prediction"
   ]
  },
  {
   "cell_type": "code",
   "execution_count": null,
   "id": "30a5eace",
   "metadata": {},
   "outputs": [],
   "source": [
    "# Assuming that class 0 is for 'defective' and class 1 is for 'good' based on how the folders are set up\n",
    "confidence_defective = prediction[0][0]\n",
    "confidence_good = prediction[0][1]\n",
    "\n",
    "# Print out the confidence levels\n",
    "print(f\"Confidence that the image is defective: {confidence_defective:.2f}\")\n",
    "print(f\"Confidence that the image is good: {confidence_good:.2f}\")\n",
    "\n",
    "# Determine the predicted class based on the highest confidence\n",
    "predicted_class = \"defective\" if confidence_defective > confidence_good else \"good\"\n",
    "print(f\"The image is predicted to be: {predicted_class}\")"
   ]
  },
  {
   "cell_type": "code",
   "execution_count": null,
   "id": "91c46597",
   "metadata": {},
   "outputs": [],
   "source": []
  },
  {
   "cell_type": "code",
   "execution_count": 5,
   "id": "f04e76b4",
   "metadata": {},
   "outputs": [
    {
     "name": "stdout",
     "output_type": "stream",
     "text": [
      "Found 20135 images belonging to 2 classes.\n",
      "Found 5033 images belonging to 2 classes.\n"
     ]
    }
   ],
   "source": [
    "data_dir = \"D:\\\\01.Paul\\\\AIVI006_IK15HGAE_data_PCBALL\"\n",
    "train_dir = os.path.join(data_dir, \"train\")\n",
    "\n",
    "img_size = 224\n",
    "batch_size = 16\n",
    "\n",
    "# Define data augmentation techniques\n",
    "train_datagen = ImageDataGenerator(\n",
    "    rescale=1./255,\n",
    "    rotation_range=40,\n",
    "    horizontal_flip=True,\n",
    "    vertical_flip=True,\n",
    "    zoom_range=0.2,\n",
    "    validation_split=0.2,\n",
    ")\n",
    "\n",
    "# Setup train, validation and test generators\n",
    "train_set = train_datagen.flow_from_directory(\n",
    "    train_dir,\n",
    "    target_size=(img_size, img_size),\n",
    "    batch_size=batch_size,\n",
    "    class_mode='categorical',\n",
    "    subset='training'\n",
    ")\n",
    "\n",
    "val_set = train_datagen.flow_from_directory(\n",
    "    train_dir,\n",
    "    target_size=(img_size, img_size),\n",
    "    batch_size=batch_size,\n",
    "    class_mode='categorical',\n",
    "    subset='validation'\n",
    ")"
   ]
  },
  {
   "cell_type": "code",
   "execution_count": 6,
   "id": "d8b22268",
   "metadata": {},
   "outputs": [
    {
     "name": "stdout",
     "output_type": "stream",
     "text": [
      "{'defective': 0, 'good': 1}\n"
     ]
    }
   ],
   "source": [
    "print(train_set.class_indices)"
   ]
  },
  {
   "cell_type": "code",
   "execution_count": null,
   "id": "8b6c85b1",
   "metadata": {},
   "outputs": [],
   "source": []
  }
 ],
 "metadata": {
  "kernelspec": {
   "display_name": "Python 3 (ipykernel)",
   "language": "python",
   "name": "python3"
  },
  "language_info": {
   "codemirror_mode": {
    "name": "ipython",
    "version": 3
   },
   "file_extension": ".py",
   "mimetype": "text/x-python",
   "name": "python",
   "nbconvert_exporter": "python",
   "pygments_lexer": "ipython3",
   "version": "3.11.5"
  }
 },
 "nbformat": 4,
 "nbformat_minor": 5
}
